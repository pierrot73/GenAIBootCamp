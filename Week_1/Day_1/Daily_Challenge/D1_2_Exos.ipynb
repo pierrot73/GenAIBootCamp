{
  "nbformat": 4,
  "nbformat_minor": 0,
  "metadata": {
    "colab": {
      "provenance": []
    },
    "kernelspec": {
      "name": "python3",
      "display_name": "Python 3"
    },
    "language_info": {
      "name": "python"
    }
  },
  "cells": [
    {
      "cell_type": "markdown",
      "source": [
        "Challenge 1"
      ],
      "metadata": {
        "id": "b6YzCM213drs"
      }
    },
    {
      "cell_type": "code",
      "execution_count": 1,
      "metadata": {
        "colab": {
          "base_uri": "https://localhost:8080/"
        },
        "id": "niJaW5Kr3Anm",
        "outputId": "265a4c3e-d64a-4a51-c49c-44284eba7820"
      },
      "outputs": [
        {
          "output_type": "stream",
          "name": "stdout",
          "text": [
            "Entre ton nombre : 3\n",
            "Entre une taille de liste : 5\n",
            "Liste de multiples de 3 : [3, 6, 9, 12, 15]\n"
          ]
        }
      ],
      "source": [
        "nombre = int(input(\"Entre ton nombre : \"))\n",
        "length = int(input(\"Entre une taille de liste : \"))\n",
        "list_multiple=[nombre*i for i in range (1, length+1)]\n",
        "\n",
        "print(f\"Liste de multiples de {nombre} : {list_multiple}\")"
      ]
    },
    {
      "cell_type": "markdown",
      "source": [
        "Challenge 2"
      ],
      "metadata": {
        "id": "Vw54kJ0BNhlo"
      }
    },
    {
      "cell_type": "code",
      "source": [
        "def remove_consecutive_duplicates(lettre):\n",
        "    if not lettre:\n",
        "        return lettre\n",
        "\n",
        "    result = [lettre[0]]  # Commence avec le premier caractère\n",
        "    for char in lettre [1:]:\n",
        "        if char != result[-1]:\n",
        "            result.append(char)\n",
        "    return ''.join(result)\n",
        "\n",
        "# Demande à l'utilisateur une chaîne de caractères\n",
        "mot = input(\"Entrez un mot ou une phrase composé de doublons de lettres : \")\n",
        "\n",
        "# Traite la chaîne pour supprimer les doublons consécutifs\n",
        "final_string = remove_consecutive_duplicates(mot)\n",
        "\n",
        "# Affiche le résultat\n",
        "print(\"Mot ou phrase après suppression des doublons consécutifs :\", final_string)"
      ],
      "metadata": {
        "id": "8bixVnCtNj1I",
        "colab": {
          "base_uri": "https://localhost:8080/"
        },
        "outputId": "81db48e0-c2d6-45f0-ce13-4059e4656cb8"
      },
      "execution_count": 9,
      "outputs": [
        {
          "output_type": "stream",
          "name": "stdout",
          "text": [
            "Entrez un mot ou une phrase composé de doublons de lettres : soolllleeiiillll\n",
            "Mot ou phrase après suppression des doublons consécutifs : soleil\n"
          ]
        }
      ]
    },
    {
      "cell_type": "markdown",
      "source": [
        "Exercices supplémentaires"
      ],
      "metadata": {
        "id": "_fXIkMLIx3OA"
      }
    },
    {
      "cell_type": "code",
      "source": [
        "for i in range (1,6):\n",
        "  print(f\"Le carré de {i} est {i*i}\")"
      ],
      "metadata": {
        "colab": {
          "base_uri": "https://localhost:8080/"
        },
        "id": "zPhxb6fVd5Gy",
        "outputId": "4ae19e65-c750-4c4f-d2cd-742f53844750"
      },
      "execution_count": 15,
      "outputs": [
        {
          "output_type": "stream",
          "name": "stdout",
          "text": [
            "Le carré de 1 est 1\n",
            "Le carré de 2 est 4\n",
            "Le carré de 3 est 9\n",
            "Le carré de 4 est 16\n",
            "Le carré de 5 est 25\n"
          ]
        }
      ]
    },
    {
      "cell_type": "code",
      "source": [
        "list=[i for i in range (1,6,1)]\n",
        "list"
      ],
      "metadata": {
        "colab": {
          "base_uri": "https://localhost:8080/"
        },
        "id": "yATsNSWre8io",
        "outputId": "ef81f456-0100-4703-e335-3417e3d0d4ff"
      },
      "execution_count": 26,
      "outputs": [
        {
          "output_type": "execute_result",
          "data": {
            "text/plain": [
              "[1, 2, 3, 4, 5]"
            ]
          },
          "metadata": {},
          "execution_count": 26
        }
      ]
    },
    {
      "cell_type": "code",
      "source": [
        "sum=0\n",
        "for i in range (1,101):\n",
        "    sum = sum + i\n",
        "print(sum)"
      ],
      "metadata": {
        "colab": {
          "base_uri": "https://localhost:8080/"
        },
        "id": "j4i-ZLSEiKVc",
        "outputId": "0ce1969f-b4b4-4330-b238-ffd8e3acefaa"
      },
      "execution_count": 43,
      "outputs": [
        {
          "output_type": "stream",
          "name": "stdout",
          "text": [
            "5050\n"
          ]
        }
      ]
    },
    {
      "cell_type": "code",
      "source": [
        "list=[i for i in range (1,10)]\n",
        "a=list[::-1]\n",
        "print (a)"
      ],
      "metadata": {
        "colab": {
          "base_uri": "https://localhost:8080/"
        },
        "id": "uxn2Hd4Fkn7D",
        "outputId": "82c5ab91-b657-4fd7-87ad-58cbe1f3a3e0"
      },
      "execution_count": 49,
      "outputs": [
        {
          "output_type": "stream",
          "name": "stdout",
          "text": [
            "[9, 8, 7, 6, 5, 4, 3, 2, 1]\n"
          ]
        }
      ]
    },
    {
      "cell_type": "code",
      "source": [
        "list=[1,2,3,4,5]\n",
        "for i in range (len(list)-1,-1,-1):\n",
        "  print (list[i])"
      ],
      "metadata": {
        "colab": {
          "base_uri": "https://localhost:8080/"
        },
        "id": "ZOcSSFz8mpMV",
        "outputId": "c618aa43-fdef-40c5-9f78-d307e56287fe"
      },
      "execution_count": 73,
      "outputs": [
        {
          "output_type": "stream",
          "name": "stdout",
          "text": [
            "5\n",
            "4\n",
            "3\n",
            "2\n",
            "1\n"
          ]
        }
      ]
    }
  ]
}
