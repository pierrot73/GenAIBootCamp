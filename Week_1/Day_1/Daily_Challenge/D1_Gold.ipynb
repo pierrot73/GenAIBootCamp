{
  "nbformat": 4,
  "nbformat_minor": 0,
  "metadata": {
    "colab": {
      "provenance": []
    },
    "kernelspec": {
      "name": "python3",
      "display_name": "Python 3"
    },
    "language_info": {
      "name": "python"
    }
  },
  "cells": [
    {
      "cell_type": "code",
      "source": [
        "from datetime import datetime\n",
        "\n",
        "def est_bissextile(annee):\n",
        "    return (annee % 4 == 0 and (annee % 100 != 0 or annee % 400 == 0))\n",
        "\n",
        "# Demande à l'utilisateur de saisir sa date de naissance au format DD/MM/YYYY\n",
        "while True:\n",
        "  birthdate_str = input(\"Veuillez entrer votre date de naissance au format DD/MM/YYYY : \")\n",
        "\n",
        "# Conversion de la chaîne en date\n",
        "  try:\n",
        "    birthdate = datetime.strptime(birthdate_str, \"%d/%m/%Y\")\n",
        "    today = datetime.today()\n",
        "    if birthdate > today:\n",
        "            print(\"La date de naissance ne peut pas être dans le futur. Veuillez réessayer.\")\n",
        "            continue  # Demande une nouvelle saisie\n",
        "    break  # La date est valide et dans le passé, on quitte la boucle\n",
        "  except ValueError:\n",
        "    print(\"Format de date invalide. Veuillez respecter le format DD/MM/YYYY.\")\n",
        "\n",
        "# Calcul de l'âge\n",
        "today = datetime.today()\n",
        "age = today.year - birthdate.year\n",
        "# Vérifier si l'anniversaire a déjà eu lieu cette année\n",
        "if (today.month, today.day) < (birthdate.month, birthdate.day):\n",
        "    age -= 1\n",
        "\n",
        "# Vérifier si année de naissance est bissextile\n",
        "if est_bissextile(birthdate.year):\n",
        "    nb_cakes = 2\n",
        "else:\n",
        "    nb_cakes = 1\n",
        "\n",
        "# Obtenir le dernier chiffre de l'âge\n",
        "last_digit = age % 10\n",
        "\n",
        "# Affichage du gâteau avec le nombre de bougies dépendant de l'âge calculé\n",
        "def afficher_gateau(bougies):\n",
        "  print(\" \" * 8 + \"💡\" * last_digit)\n",
        "  print(\"      |:H:a:p:p:y:|\")\n",
        "  print(\"    __|___________|__\")\n",
        "  print(\"   |^^^^^^^^^^^^^^^^^|\")\n",
        "  print(\"   |:B:i:r:t:h:d:a:y:|\")\n",
        "  print(\"   |                 |\")\n",
        "  print(\"   ~~~~~~~~~~~~~~~~~~~\")\n",
        "\n",
        "# Afficher les gâteaux\n",
        "for _ in range(nb_cakes):\n",
        "    afficher_gateau(last_digit)"
      ],
      "metadata": {
        "colab": {
          "base_uri": "https://localhost:8080/"
        },
        "id": "9nVMJlVB5dXY",
        "outputId": "a5ebecff-2807-466a-a9ea-9b56a5011fd5"
      },
      "execution_count": 41,
      "outputs": [
        {
          "output_type": "stream",
          "name": "stdout",
          "text": [
            "Veuillez entrer votre date de naissance au format DD/MM/YYYY : 04/06/2000\n",
            "        💡💡💡💡💡\n",
            "      |:H:a:p:p:y:|\n",
            "    __|___________|__\n",
            "   |^^^^^^^^^^^^^^^^^|\n",
            "   |:B:i:r:t:h:d:a:y:|\n",
            "   |                 |\n",
            "   ~~~~~~~~~~~~~~~~~~~\n",
            "        💡💡💡💡💡\n",
            "      |:H:a:p:p:y:|\n",
            "    __|___________|__\n",
            "   |^^^^^^^^^^^^^^^^^|\n",
            "   |:B:i:r:t:h:d:a:y:|\n",
            "   |                 |\n",
            "   ~~~~~~~~~~~~~~~~~~~\n"
          ]
        }
      ]
    }
  ]
}
