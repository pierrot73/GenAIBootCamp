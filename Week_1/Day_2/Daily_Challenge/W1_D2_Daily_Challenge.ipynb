{
  "nbformat": 4,
  "nbformat_minor": 0,
  "metadata": {
    "colab": {
      "provenance": []
    },
    "kernelspec": {
      "name": "python3",
      "display_name": "Python 3"
    },
    "language_info": {
      "name": "python"
    }
  },
  "cells": [
    {
      "cell_type": "markdown",
      "source": [
        "Day 2 - Daily Challenge"
      ],
      "metadata": {
        "id": "mfydG5QGQLGv"
      }
    },
    {
      "cell_type": "code",
      "source": [
        "# Demande à l'utilisateur de saisir un mot\n",
        "word = input(\"Veuillez saisir un mot : \")\n",
        "\n",
        "# Initialisation du dictionnaire vide\n",
        "letter_indices = {}\n",
        "\n",
        "# Parcours de chaque caractère du mot avec son index\n",
        "for index, letter in enumerate(word):\n",
        "    # Si la lettre n'est pas encore une clé dans le dictionnaire\n",
        "    if letter not in letter_indices:\n",
        "        # Créer une nouvelle entrée avec la liste contenant l'index actuel\n",
        "        letter_indices[letter] = [index]\n",
        "    else:\n",
        "        # Si la lettre est déjà présente, ajouter l'index à la liste existante\n",
        "        letter_indices[letter].append(index)\n",
        "\n",
        "# Affichage du dictionnaire résultant\n",
        "print(letter_indices)"
      ],
      "metadata": {
        "id": "n2paga76QOZN",
        "colab": {
          "base_uri": "https://localhost:8080/"
        },
        "outputId": "509d363f-a493-4a58-a977-1e889b7ba954"
      },
      "execution_count": 2,
      "outputs": [
        {
          "output_type": "stream",
          "name": "stdout",
          "text": [
            "Veuillez saisir un mot : dodo\n",
            "{'d': [0, 2], 'o': [1, 3]}\n"
          ]
        }
      ]
    }
  ]
}
