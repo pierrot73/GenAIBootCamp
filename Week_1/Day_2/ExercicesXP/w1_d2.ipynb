{
  "nbformat": 4,
  "nbformat_minor": 0,
  "metadata": {
    "colab": {
      "provenance": []
    },
    "kernelspec": {
      "name": "python3",
      "display_name": "Python 3"
    },
    "language_info": {
      "name": "python"
    }
  },
  "cells": [
    {
      "cell_type": "markdown",
      "source": [
        "Exercice 1"
      ],
      "metadata": {
        "id": "saKvZ-QfIBr9"
      }
    },
    {
      "cell_type": "code",
      "source": [
        "keys = ['Ten', 'Twenty', 'Thirty']\n",
        "values = [10, 20, 30]\n",
        "result_dictionnaire=dict(zip(keys, values))\n",
        "print(result_dictionnaire)"
      ],
      "metadata": {
        "colab": {
          "base_uri": "https://localhost:8080/"
        },
        "id": "s7_3Ee47IGvr",
        "outputId": "e4643a00-aa2d-4b96-dd7f-5fb53f339394"
      },
      "execution_count": null,
      "outputs": [
        {
          "output_type": "stream",
          "name": "stdout",
          "text": [
            "{'Ten': 10, 'Twenty': 20, 'Thirty': 30}\n"
          ]
        }
      ]
    },
    {
      "cell_type": "markdown",
      "source": [
        "Exercice 2"
      ],
      "metadata": {
        "id": "qC9h4kalJcMl"
      }
    },
    {
      "cell_type": "code",
      "source": [
        "# liste des membres de famille icluant leur âge et prénom\n",
        "family = {\"rick\": 43, 'beth': 13, 'morty': 5, 'summer': 8}\n",
        "\n",
        "# Initialisation du prix\n",
        "total_cost = 0\n",
        "\n",
        "# boucle for liée aux membres de la famille permettant d'itérer sur la liste\n",
        "for name, age in family.items():\n",
        "  if age<3:\n",
        "    price=0\n",
        "    print(f\"L'âge de {name} est inférieur à 3 ans. Prix du ticket: {price}$\")\n",
        "  elif age>=3 and age<=12:\n",
        "    price=10\n",
        "    print(f\"L'âge de {name} est compris entre 3 ans et 12 ans. Prix du ticket: {price}$\")\n",
        "  else:\n",
        "    price=15\n",
        "    print(f\"L'âge de {name} est supérieur à 12 ans. Prix du ticket: {price}$\")\n",
        "\n",
        "  total_cost += price\n",
        "\n",
        "# Affichage du prix total\n",
        "print(f\"\\nPrix total: {total_cost}$\")"
      ],
      "metadata": {
        "colab": {
          "base_uri": "https://localhost:8080/"
        },
        "id": "TKO3izR6JdpJ",
        "outputId": "00f723e3-2f1e-47fa-e5cf-c342fabc36c1"
      },
      "execution_count": null,
      "outputs": [
        {
          "output_type": "stream",
          "name": "stdout",
          "text": [
            "L'âge de rick est supérieur à 12 ans. Prix du ticket: 15$\n",
            "L'âge de beth est supérieur à 12 ans. Prix du ticket: 15$\n",
            "L'âge de morty est compris entre 3 ans et 12 ans. Prix du ticket: 10$\n",
            "L'âge de summer est compris entre 3 ans et 12 ans. Prix du ticket: 10$\n",
            "\n",
            "Prix total: 50$\n"
          ]
        }
      ]
    },
    {
      "cell_type": "markdown",
      "source": [
        "Exercice 2, suite"
      ],
      "metadata": {
        "id": "UxM32JB9VmAw"
      }
    },
    {
      "cell_type": "code",
      "source": [
        "# Initialisation du dictionnaire incluant les data de la famille (prénoms et âges)\n",
        "family = {}\n",
        "# Demande du nombre de membres de famille\n",
        "num_members = int(input(\"Entrez le nombre de membres de famille: \"))\n",
        "\n",
        "# Collecte des noms, âge et nombre des membres de famille\n",
        "for _ in range(num_members):\n",
        "    name = input(\"Entrez le prénom du membre de la famille : \")\n",
        "    age = int(input(f\"Entrez l'âge de {name}: \"))\n",
        "    family[name] = age\n",
        "\n",
        "# Initialisation du prix\n",
        "total_cost = 0\n",
        "\n",
        "# boucle for liée aux membres de la famille permettant d'itérer sur la liste\n",
        "for name, age in family.items():\n",
        "  if age<3:\n",
        "    price=0\n",
        "    print(f\"L'âge de {name} est inférieur à 3 ans. Prix du ticket: {price}$\")\n",
        "  elif age>=3 and age<=12:\n",
        "    price=10\n",
        "    print(f\"L'âge de {name} est compris entre 3 ans et 12 ans. Prix du ticket: {price}$\")\n",
        "  else:\n",
        "    price=15\n",
        "    print(f\"L'âge de {name} est supérieur à 12 ans. Prix du ticket: {price}$\")\n",
        "\n",
        "  total_cost += price\n",
        "\n",
        "# Affichage du prix total\n",
        "print(f\"\\nPrix total: {total_cost}$\")"
      ],
      "metadata": {
        "colab": {
          "base_uri": "https://localhost:8080/"
        },
        "id": "eQySZG5sW9wb",
        "outputId": "cc746598-d057-4f73-df23-a9d9a63466ad"
      },
      "execution_count": null,
      "outputs": [
        {
          "output_type": "stream",
          "name": "stdout",
          "text": [
            "Entrez le nombre de membres de famille: 3\n",
            "Entrez le prénom du membre de la famille : Lise\n",
            "Entrez l'âge de Lise: 2\n",
            "Entrez le prénom du membre de la famille : Benji\n",
            "Entrez l'âge de Benji: 5\n",
            "Entrez le prénom du membre de la famille : Madar\n",
            "Entrez l'âge de Madar: 25\n",
            "L'âge de Lise est inférieur à 3 ans. Prix du ticket: 0$\n",
            "L'âge de Benji est compris entre 3 ans et 12 ans. Prix du ticket: 10$\n",
            "L'âge de Madar est supérieur à 12 ans. Prix du ticket: 15$\n",
            "\n",
            "Prix total: 25$\n"
          ]
        }
      ]
    },
    {
      "cell_type": "markdown",
      "source": [
        "Exercice 3"
      ],
      "metadata": {
        "id": "baEguNYqZpkA"
      }
    },
    {
      "cell_type": "code",
      "source": [
        "# Création du dictionnaire incluant les data de l'exercice\n",
        "brand = {\n",
        "    \"name\": \"Zara\",\n",
        "    \"creation_date\": 1975,\n",
        "    \"creator_name\": \"Amancio Ortega Gaona\",\n",
        "    \"type_of_clothes\": [\"men\", \"women\", \"children\", \"home\"],\n",
        "    \"international_competitors\": [\"Gap\", \"H&M\", \"Benetton\"],\n",
        "    \"number_stores\": 7000,\n",
        "    \"major_color\": {\n",
        "        \"France\": [\"blue\"],\n",
        "        \"Spain\": [\"red\"],\n",
        "        \"US\": [\"pink\", \"green\"]\n",
        "    }\n",
        "}\n",
        "\n",
        "# Modification de valeur lié au champ \"number_stores\"\n",
        "brand[\"number_stores\"] = 2\n",
        "\n",
        "# Affichage de la phrase Zara’s clients\n",
        "types = \", \".join(brand[\"type_of_clothes\"])\n",
        "print(f\"Zara's clients include people interested in {types}.\")\n",
        "\n",
        "# Ajout d'un nouveau pays avec la valeur Spain\n",
        "brand[\"country_creation\"] = \"Spain\"\n",
        "\n",
        "# Vérifier si international_competitors existe et ajout de \"Desigual\"\n",
        "if \"international_competitors\" in brand:\n",
        "    brand[\"international_competitors\"].append(\"Desigual\")\n",
        "\n",
        "# Suppression de creation_date\n",
        "del brand[\"creation_date\"]\n",
        "\n",
        "# Affichage du dernier terme dans international_competitors\n",
        "print(\"Last international competitor:\", brand[\"international_competitors\"][-1])\n",
        "\n",
        "# Affichage de major colors dans US\n",
        "us_colors = brand[\"major_color\"][\"US\"]\n",
        "print(\"Major colors in the US:\", \", \".join(us_colors))\n",
        "\n",
        "# Affichage du nombre de clés dans le dictionnaire brand\n",
        "print(\"Number of keys in the brand dictionary:\", len(brand))\n",
        "\n",
        "# Affichage de toutes les clés du dictionnaire brand\n",
        "print(\"Keys in the brand dictionary:\", list(brand.keys()))\n",
        "\n",
        "# Création d'un dictionnaire supplémentaire\n",
        "more_on_zara={\n",
        "    \"creation_date\": 1980,\n",
        "    \"number_stores\": 5\n",
        "}\n",
        "\n",
        "# Fusion du dictionnaire more_on_zara avec le dictionnaire brand\n",
        "brand.update(more_on_zara)\n",
        "\n",
        "#Affichage du dictionnaire fusionné\n",
        "print(brand)"
      ],
      "metadata": {
        "colab": {
          "base_uri": "https://localhost:8080/"
        },
        "id": "GMoGSrJnZrgF",
        "outputId": "6d7b4b63-a954-4c32-966c-19eb131468eb"
      },
      "execution_count": null,
      "outputs": [
        {
          "output_type": "stream",
          "name": "stdout",
          "text": [
            "Zara's clients include people interested in men, women, children, home.\n",
            "Last international competitor: Desigual\n",
            "Major colors in the US: pink, green\n",
            "Number of keys in the brand dictionary: 7\n",
            "Keys in the brand dictionary: ['name', 'creator_name', 'type_of_clothes', 'international_competitors', 'number_stores', 'major_color', 'country_creation']\n",
            "{'name': 'Zara', 'creator_name': 'Amancio Ortega Gaona', 'type_of_clothes': ['men', 'women', 'children', 'home'], 'international_competitors': ['Gap', 'H&M', 'Benetton', 'Desigual'], 'number_stores': 5, 'major_color': {'France': ['blue'], 'Spain': ['red'], 'US': ['pink', 'green']}, 'country_creation': 'Spain', 'creation_date': 1980}\n"
          ]
        }
      ]
    },
    {
      "cell_type": "markdown",
      "source": [
        "Exercice 4"
      ],
      "metadata": {
        "id": "SU_ex0PNh_dQ"
      }
    },
    {
      "cell_type": "code",
      "source": [
        "def describe_city(city, country):\n",
        "    if country==\"\":\n",
        "      print(f\"{city} is in Unknown.\")\n",
        "    else:\n",
        "      print(f\"{city} is in {country}.\")\n",
        "\n",
        "describe_city('Paris','')\n",
        "describe_city('Reykjavik','Iceland')"
      ],
      "metadata": {
        "colab": {
          "base_uri": "https://localhost:8080/"
        },
        "id": "mKzZFFi9iB_g",
        "outputId": "2f7a544e-3bdb-4128-bd27-789f0d94a30b"
      },
      "execution_count": null,
      "outputs": [
        {
          "output_type": "stream",
          "name": "stdout",
          "text": [
            "Paris is in Unknown.\n",
            "Reykjavik is in Iceland.\n"
          ]
        }
      ]
    },
    {
      "cell_type": "markdown",
      "source": [
        "Exercice 5"
      ],
      "metadata": {
        "id": "uI2QgK9k1wOf"
      }
    },
    {
      "cell_type": "code",
      "source": [
        "import random\n",
        "\n",
        "def compare_numbers(user_number):\n",
        "    random_number = random.randint(1, 100)\n",
        "    if user_number == random_number:\n",
        "        print(\"Success!\")\n",
        "    else:\n",
        "        print(f\"Fail! Your number: {user_number}, Random number: {random_number}\")\n",
        "\n",
        "while True:\n",
        "    try:\n",
        "        user_input = input(\"Entrez un nombre entre 1 et 100 : \")\n",
        "        user_number = int(user_input)\n",
        "        if 1 <= user_number <= 100:\n",
        "            compare_numbers(user_number)\n",
        "            break  # Sortie après une tentative correcte\n",
        "        else:\n",
        "            print(\"Le nombre doit être entre 1 et 100. Veuillez réessayer.\")\n",
        "    except ValueError:\n",
        "        print(\"Ce n'est pas un nombre valide. Veuillez entrer un nombre entier.\")"
      ],
      "metadata": {
        "colab": {
          "base_uri": "https://localhost:8080/"
        },
        "id": "eICDXjc-1uXu",
        "outputId": "fcdd9d79-0d86-484b-eba5-9312eccedb7a"
      },
      "execution_count": null,
      "outputs": [
        {
          "output_type": "stream",
          "name": "stdout",
          "text": [
            "Entrez un nombre entre 1 et 100 : a\n",
            "Ce n'est pas un nombre valide. Veuillez entrer un nombre entier.\n",
            "Entrez un nombre entre 1 et 100 : 0\n",
            "Le nombre doit être entre 1 et 100. Veuillez réessayer.\n",
            "Entrez un nombre entre 1 et 100 : 101\n",
            "Le nombre doit être entre 1 et 100. Veuillez réessayer.\n",
            "Entrez un nombre entre 1 et 100 : 1,5\n",
            "Ce n'est pas un nombre valide. Veuillez entrer un nombre entier.\n",
            "Entrez un nombre entre 1 et 100 : 48\n",
            "Fail! Your number: 48, Random number: 21\n"
          ]
        }
      ]
    },
    {
      "cell_type": "markdown",
      "source": [
        "Exercice 6"
      ],
      "metadata": {
        "id": "yKxVXXxVTsSD"
      }
    },
    {
      "cell_type": "code",
      "source": [
        "\n",
        "def make_shirt(size, text):\n",
        "  print(f\" The size of the shirt is {size} and the text is : '{text}'\")\n",
        "make_shirt(\"S\",\"Hello world\")"
      ],
      "metadata": {
        "colab": {
          "base_uri": "https://localhost:8080/"
        },
        "id": "67cTKSOoTtpb",
        "outputId": "bfc5f9e9-0b01-4321-d7e3-7d403d4a6fe7"
      },
      "execution_count": null,
      "outputs": [
        {
          "output_type": "stream",
          "name": "stdout",
          "text": [
            " The size of the shirt is S and the text is : 'Hello world'\n"
          ]
        }
      ]
    },
    {
      "cell_type": "markdown",
      "source": [
        "Exercice 7"
      ],
      "metadata": {
        "id": "bAY0dQEyWCAV"
      }
    },
    {
      "cell_type": "code",
      "source": [
        "def  get_random_temp():\n",
        "  random_number = random.uniform(10, 40)\n",
        "  return random_number\n",
        "def main():\n",
        "  x=get_random_temp()\n",
        "  print(f\"The temperature right now is {x} degrees Celsius.\")\n",
        "  if x<0:\n",
        "    print (\"Brrr, that’s freezing! Wear some extra layers today.\")\n",
        "  elif  0<=x<= 16 :\n",
        "          print(\"Quite chilly! Don’t forget your coat.\")\n",
        "  elif  16<x<=23 :\n",
        "          print(\"Nice weather.\")\n",
        "  elif  23<x<=32 :\n",
        "          print(\"A bit warm, stay hydrated.\")\n",
        "  elif 32<x<=40 :\n",
        "        print(\"It’s really hot! Stay cool.\")\n",
        "  else:\n",
        "    print(\"La température saisie est supérieure à 40°\")\n",
        "\n",
        "main()"
      ],
      "metadata": {
        "colab": {
          "base_uri": "https://localhost:8080/"
        },
        "id": "3gPZz5d8WDaf",
        "outputId": "6580136c-14b6-4601-b5fb-72542ea99e3a"
      },
      "execution_count": null,
      "outputs": [
        {
          "output_type": "stream",
          "name": "stdout",
          "text": [
            "The temperature right now is 14.92972625617719 degrees Celsius.\n",
            "Quite chilly! Don’t forget your coat.\n"
          ]
        }
      ]
    },
    {
      "cell_type": "markdown",
      "source": [
        "Exercice 8"
      ],
      "metadata": {
        "id": "iBsemJ6xe18O"
      }
    },
    {
      "cell_type": "code",
      "source": [
        "toppings = []\n",
        "while True:\n",
        "    topping = input(\"Enter a pizza topping (or type 'quit' to finish): \").strip()\n",
        "    if topping.lower() == 'quit':\n",
        "        break\n",
        "    print(f\"Adding {topping} to your pizza.\")\n",
        "    toppings.append(topping)\n",
        "\n",
        "# Calculate total cost\n",
        "base_price = 10.0\n",
        "topping_price = 2.50\n",
        "total_cost = base_price + len(toppings) * topping_price\n",
        "\n",
        "# Print all toppings\n",
        "print(\"\\nYour pizza toppings:\")\n",
        "for t in toppings:\n",
        "    print(f\"- {t}\")\n",
        "\n",
        "# Print total cost\n",
        "print(f\"\\nTotal cost of your pizza: ${total_cost:.2f}\")"
      ],
      "metadata": {
        "colab": {
          "base_uri": "https://localhost:8080/"
        },
        "id": "0ESnrzZ6e4ln",
        "outputId": "bf035597-40d6-4132-92bb-3afcaf2e08f0"
      },
      "execution_count": 1,
      "outputs": [
        {
          "output_type": "stream",
          "name": "stdout",
          "text": [
            "Enter a pizza topping (or type 'quit' to finish): sel\n",
            "Adding sel to your pizza.\n",
            "Enter a pizza topping (or type 'quit' to finish): cream\n",
            "Adding cream to your pizza.\n",
            "Enter a pizza topping (or type 'quit' to finish): tomato\n",
            "Adding tomato to your pizza.\n",
            "Enter a pizza topping (or type 'quit' to finish): cheeze\n",
            "Adding cheeze to your pizza.\n",
            "Enter a pizza topping (or type 'quit' to finish): egg\n",
            "Adding egg to your pizza.\n",
            "Enter a pizza topping (or type 'quit' to finish): quit\n",
            "\n",
            "Your pizza toppings:\n",
            "- sel\n",
            "- cream\n",
            "- tomato\n",
            "- cheeze\n",
            "- egg\n",
            "\n",
            "Total cost of your pizza: $22.50\n"
          ]
        }
      ]
    }
  ]
}
