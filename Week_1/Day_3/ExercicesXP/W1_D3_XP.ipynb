{
  "nbformat": 4,
  "nbformat_minor": 0,
  "metadata": {
    "colab": {
      "provenance": []
    },
    "kernelspec": {
      "name": "python3",
      "display_name": "Python 3"
    },
    "language_info": {
      "name": "python"
    }
  },
  "cells": [
    {
      "cell_type": "markdown",
      "source": [
        "Exercice 1\n"
      ],
      "metadata": {
        "id": "OplSuMmKPKY2"
      }
    },
    {
      "cell_type": "code",
      "execution_count": 13,
      "metadata": {
        "colab": {
          "base_uri": "https://localhost:8080/"
        },
        "id": "E1-Bkz1mPGB_",
        "outputId": "d1931ec5-3521-40e2-bade-0ab544c0ee14"
      },
      "outputs": [
        {
          "output_type": "stream",
          "name": "stdout",
          "text": [
            "The oldest cat is 5 years old and the name is Mic.\n"
          ]
        }
      ],
      "source": [
        "class Cat:\n",
        "    def __init__(self, cat_name, cat_age):\n",
        "        self.name = cat_name\n",
        "        self.age = cat_age\n",
        "\n",
        "# Step 1: Create cat objects\n",
        "cat1 = Cat(\"Michou\", 1)\n",
        "cat2 = Cat(\"Mic\", 5)\n",
        "cat3 = Cat(\"Mia\", 3)\n",
        "\n",
        "# Step 2: Create a function to find the oldest cat\n",
        "def find_oldest_cat(*cats):\n",
        "    return max(cats, key=lambda cat: cat.age) #La fonction lambda est utilisée pour rechercher le paramètre age\n",
        "\n",
        "# Step 3: Print the oldest cat's details\n",
        "oldest_cat = find_oldest_cat(cat1, cat2, cat3)\n",
        "print(f\"The oldest cat is {oldest_cat.age} years old and the name is {oldest_cat.name}.\")"
      ]
    },
    {
      "cell_type": "markdown",
      "source": [
        "Exercice 2"
      ],
      "metadata": {
        "id": "Jl-qURCVXNCu"
      }
    },
    {
      "cell_type": "code",
      "source": [
        "class Dog():\n",
        "    # Initializer / Instance Attributes\n",
        "    def __init__(self, name, height):\n",
        "      self.name=name\n",
        "      self.height=height\n",
        "\n",
        "    def bark(self):\n",
        "      print(\"Woof!\")\n",
        "    def jump(self):\n",
        "        jump_height = self.height*2\n",
        "        print(self.name,\"jumped\",jump_height)\n",
        "    davids_dog = Dog(\"Rex\",25)\n",
        "    print(davids_dog)\n",
        "    davids_dog.bark()\n",
        "    davids_dog.jump()\n",
        "    sarahs_dog = Dog(\"Tom\",50)\n",
        "    print(sarahs_dog)\n",
        "    sarahs_dog.bark()\n",
        "    sarahs_dog.jump()\n",
        "\n",
        "def find_tallest(*dogs):\n",
        "        tallest = max(dogs, key=lambda d: d.height)\n",
        "        print(f\"The big dog is {tallest.name} ({tallest.height} cm).\")\n",
        "find_tallest(davids_dog,sarahs_dog)"
      ],
      "metadata": {
        "colab": {
          "base_uri": "https://localhost:8080/"
        },
        "id": "UqsrqvpJXYCM",
        "outputId": "1e4f2fee-44c7-4b5e-d264-dcdd6c40ccb2"
      },
      "execution_count": 28,
      "outputs": [
        {
          "output_type": "stream",
          "name": "stdout",
          "text": [
            "<__main__.Dog object at 0x7fe1cb5f3d50>\n",
            "Woof!\n",
            "Rex jumped 50\n",
            "<__main__.Dog object at 0x7fe1cb6ffd10>\n",
            "Woof!\n",
            "Tom jumped 100\n",
            "The big dog is Tom (50 cm).\n"
          ]
        }
      ]
    },
    {
      "cell_type": "code",
      "source": [
        "class Dog():\n",
        "    # Initializer / Instance Attributes\n",
        "    def __init__(self, name, height):\n",
        "      self.name=name\n",
        "      self.height=height\n",
        "\n",
        "    def bark(self):\n",
        "      print(\"Woof!\")\n",
        "    def jump(self):\n",
        "        jump_height = self.height*2\n",
        "        print(self.name,\"jumped\",jump_height)\n",
        "    davids_dog = Dog(\"Rex\",25)\n",
        "    print(davids_dog) # permet d'afficher l'objet davids_dog\n",
        "    davids_dog.bark()\n",
        "    davids_dog.jump()\n",
        "    sarahs_dog = Dog(\"Tom\",50)\n",
        "    print(sarahs_dog) # permet d'afficher l'objet sarahs_dog\n",
        "    sarahs_dog.bark()\n",
        "    sarahs_dog.jump()\n",
        "def find_winner(dog1, dog2):\n",
        "    if dog1.height > dog2.height:\n",
        "        return dog1\n",
        "    else:\n",
        "        return dog2\n",
        "winner = find_winner(davids_dog, sarahs_dog)\n",
        "print(f\"The winner is {winner.name}.\")"
      ],
      "metadata": {
        "colab": {
          "base_uri": "https://localhost:8080/"
        },
        "id": "d8blfjevjc5m",
        "outputId": "c5b95611-7e58-4951-a5f7-cfd5251f3f77"
      },
      "execution_count": 38,
      "outputs": [
        {
          "output_type": "stream",
          "name": "stdout",
          "text": [
            "<__main__.Dog object at 0x7fe1cb5dd8d0>\n",
            "Woof!\n",
            "Rex jumped 50\n",
            "<__main__.Dog object at 0x7fe1cb5f15d0>\n",
            "Woof!\n",
            "Tom jumped 100\n",
            "The winner is Tom.\n"
          ]
        }
      ]
    },
    {
      "cell_type": "markdown",
      "source": [
        "Exercice 3"
      ],
      "metadata": {
        "id": "pxIrua24fj-I"
      }
    },
    {
      "cell_type": "code",
      "source": [
        "# Définition de la classe Song\n",
        "class Song:\n",
        "    # Constructeur de la classe, appelé lors de la création d'une nouvelle instance\n",
        "    def __init__(self, lyrics):\n",
        "        # Attribut pour stocker les paroles de la chanson, qui est une liste de phrases\n",
        "        self.lyrics = lyrics\n",
        "\n",
        "    # Méthode pour chanter la chanson en affichant chaque ligne\n",
        "    def sing_me_a_song(self):\n",
        "        # Parcourt chaque ligne dans la liste des paroles\n",
        "        for i in self.lyrics:\n",
        "            # Affiche la ligne courante\n",
        "            print(i)\n",
        "\n",
        "# Création d'une instance de la classe Song avec deux lignes de paroles\n",
        "happy_bday = Song([\"happy Birthday to you\", \"Have a good day\"])\n",
        "\n",
        "# Appel de la méthode pour chanter la chanson (afficher chaque ligne)\n",
        "happy_bday.sing_me_a_song()"
      ],
      "metadata": {
        "colab": {
          "base_uri": "https://localhost:8080/"
        },
        "id": "UUIPvfg3fleH",
        "outputId": "c1f51d05-4f21-4801-a210-51834b9613bd"
      },
      "execution_count": 37,
      "outputs": [
        {
          "output_type": "stream",
          "name": "stdout",
          "text": [
            "happy Birthday to you\n",
            "Have a good day\n"
          ]
        }
      ]
    },
    {
      "cell_type": "markdown",
      "source": [
        "Exercice 4"
      ],
      "metadata": {
        "id": "o7iMtfixtYRT"
      }
    },
    {
      "cell_type": "code",
      "source": [
        "# Définition de la classe Zoo\n",
        "class Zoo:\n",
        "    # Constructeur de la classe, appelé lors de la création d'une nouvelle instance\n",
        "    def __init__(self, zoo_name):\n",
        "        # Attribut pour stocker le nom du zoo\n",
        "        self.zoo_name = zoo_name\n",
        "        # Liste pour stocker les animaux présents dans le zoo\n",
        "        self.animals = []\n",
        "\n",
        "    # Méthode pour ajouter un nouvel animal au zoo\n",
        "    def add_animal(self, new_animal):\n",
        "        # Vérifie si l'animal n'est pas déjà dans la liste pour éviter les doublons\n",
        "        if new_animal not in self.animals:\n",
        "            self.animals.append(new_animal)\n",
        "\n",
        "    # Méthode pour afficher la liste des animaux présents dans le zoo\n",
        "    def get_animals(self):\n",
        "        print(\"Animaux dans le zoo :\", self.animals)\n",
        "\n",
        "    # Méthode pour supprimer un animal de la liste\n",
        "    def sell_animal(self, animal_sold):\n",
        "        # Vérifie si l'animal est bien dans la liste pour le retirer\n",
        "        if animal_sold in self.animals:\n",
        "            self.animals.remove(animal_sold)\n",
        "\n",
        "    # Méthode pour trier les animaux par ordre alphabétique et les regrouper par leur première lettre\n",
        "    def sort_animals(self):\n",
        "        # Trie la liste des animaux par ordre alphabétique\n",
        "        self.animals.sort()\n",
        "        # Dictionnaire pour stocker les animaux triés par leur première lettre\n",
        "        sorted_animals = {}\n",
        "        # Parcourt la liste triée\n",
        "        for animal in self.animals:\n",
        "            # Récupère la première lettre du nom de l'animal\n",
        "            first_letter = animal[0]\n",
        "            # Si cette lettre n'est pas encore une clé du dictionnaire, on la crée avec une liste vide\n",
        "            if first_letter not in sorted_animals:\n",
        "                sorted_animals[first_letter] = []\n",
        "            # Ajoute l'animal à la liste correspondant à sa première lettre\n",
        "            sorted_animals[first_letter].append(animal)\n",
        "        # Retourne le dictionnaire contenant les animaux regroupés par première lettre\n",
        "        return sorted_animals\n",
        "\n",
        "# Partie de test du code\n",
        "my_zoo = Zoo(\"Safari Park\")  # Création d'une instance de Zoo avec le nom \"Safari Park\"\n",
        "my_zoo.add_animal(\"Lion\")    # Ajoute un lion\n",
        "my_zoo.add_animal(\"Tiger\")   # Ajoute un tigre\n",
        "my_zoo.add_animal(\"Bear\")    # Ajoute un ours\n",
        "my_zoo.get_animals()         # Affiche la liste actuelle des animaux\n",
        "sorted_animals = my_zoo.sort_animals()  # Trie et groupe les animaux par leur première lettre\n",
        "print(\"Animaux triés :\", sorted_animals)  # Affiche le résultat trié"
      ],
      "metadata": {
        "colab": {
          "base_uri": "https://localhost:8080/"
        },
        "id": "onLuImZ3tm54",
        "outputId": "480a2a39-d8b1-41e5-fa19-b86570fafb97"
      },
      "execution_count": 34,
      "outputs": [
        {
          "output_type": "stream",
          "name": "stdout",
          "text": [
            "Animaux dans le zoo : ['Lion', 'Tiger', 'Bear']\n",
            "Animaux triés : {'B': ['Bear'], 'L': ['Lion'], 'T': ['Tiger']}\n"
          ]
        }
      ]
    }
  ]
}
