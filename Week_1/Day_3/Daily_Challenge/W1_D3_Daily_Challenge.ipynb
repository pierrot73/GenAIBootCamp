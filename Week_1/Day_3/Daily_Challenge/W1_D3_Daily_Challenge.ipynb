{
  "nbformat": 4,
  "nbformat_minor": 0,
  "metadata": {
    "colab": {
      "provenance": []
    },
    "kernelspec": {
      "name": "python3",
      "display_name": "Python 3"
    },
    "language_info": {
      "name": "python"
    }
  },
  "cells": [
    {
      "cell_type": "markdown",
      "source": [
        "Day 3 - Daily Challenge"
      ],
      "metadata": {
        "id": "TDw-zTtbL6Jh"
      }
    },
    {
      "cell_type": "code",
      "source": [
        "# Définition de la classe Farm\n",
        "class Farm:\n",
        "    # Constructeur de la classe, appelé lors de la création d'une nouvelle instance\n",
        "    def __init__(self, farm_name):\n",
        "        # Attribut pour stocker le nom de la ferme\n",
        "        self.name = farm_name\n",
        "        # Dictionnaire pour stocker le nombre d'animaux par type\n",
        "        self.animals = {}\n",
        "\n",
        "    # Méthode pour ajouter un animal ou augmenter le nombre d'animaux d'un certain type\n",
        "    def add_animal(self, animal_type, count=1):\n",
        "        # Si le type d'animal existe déjà dans le dictionnaire\n",
        "        if animal_type in self.animals:\n",
        "            # Incrémenter le nombre d'animaux de ce type\n",
        "            self.animals[animal_type] += count\n",
        "        else:\n",
        "            # Sinon, ajouter une nouvelle entrée avec le nombre d'animaux\n",
        "            self.animals[animal_type] = count\n",
        "\n",
        "    # Méthode pour obtenir et formater les informations de la ferme\n",
        "    def get_info(self):\n",
        "        # Créer une chaîne d'information avec le nom de la ferme\n",
        "        info = f\"{self.name}'s Farm \\n\"\n",
        "        # Parcourir chaque type d'animal et sa quantité\n",
        "        for animal, count in self.animals.items():\n",
        "            # Ajouter chaque ligne avec le nom de l'animal et son nombre\n",
        "            info += f\"{animal:10} : {count}\\n\"\n",
        "        # Ajouter la phrase finale emblématique\n",
        "        info += \"E-I-E-I-O!\"\n",
        "        # Retourner la chaîne d'informations\n",
        "        return info\n",
        "\n",
        "# Partie de test du code\n",
        "# Créer une ferme nommée \"McDonald\"\n",
        "macdonald = Farm(\"McDonald\")\n",
        "# Ajouter 5 vaches\n",
        "macdonald.add_animal('cow', 5)\n",
        "# Ajouter 1 mouton\n",
        "macdonald.add_animal('sheep')\n",
        "# Ajouter encore 1 mouton\n",
        "macdonald.add_animal('sheep')\n",
        "# Ajouter 12 chèvres\n",
        "macdonald.add_animal('goat', 12)\n",
        "\n",
        "# Afficher les informations de la ferme\n",
        "print(macdonald.get_info())"
      ],
      "metadata": {
        "colab": {
          "base_uri": "https://localhost:8080/"
        },
        "id": "BSUxPJwqHzTR",
        "outputId": "6e0165bd-d8e2-43e4-ba1e-f9c44fa66aed"
      },
      "execution_count": 19,
      "outputs": [
        {
          "output_type": "stream",
          "name": "stdout",
          "text": [
            "McDonald's Farm \n",
            "cow        : 5\n",
            "sheep      : 2\n",
            "goat       : 12\n",
            "E-I-E-I-O!\n"
          ]
        }
      ]
    }
  ]
}
