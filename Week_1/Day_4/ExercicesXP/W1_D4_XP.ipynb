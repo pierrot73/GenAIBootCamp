{
  "nbformat": 4,
  "nbformat_minor": 0,
  "metadata": {
    "colab": {
      "provenance": []
    },
    "kernelspec": {
      "name": "python3",
      "display_name": "Python 3"
    },
    "language_info": {
      "name": "python"
    }
  },
  "cells": [
    {
      "cell_type": "markdown",
      "source": [
        "Exercice 1"
      ],
      "metadata": {
        "id": "dHvqiMTvT2fy"
      }
    },
    {
      "cell_type": "code",
      "source": [
        "class Pets():\n",
        "    def __init__(self, animals):\n",
        "        self.animals = animals\n",
        "\n",
        "    def walk(self):\n",
        "        # Parcourt chaque animal dans la liste et affiche sa marche\n",
        "        for animal in self.animals:\n",
        "            print(animal.walk())\n",
        "\n",
        "class Cat():\n",
        "    is_lazy = True\n",
        "\n",
        "    def __init__(self, name, age):\n",
        "        self.name = name\n",
        "        self.age = age\n",
        "\n",
        "    def walk(self):\n",
        "        # Retourne une phrase indiquant que le chat se promène\n",
        "        return f'{self.name} est en train de se promener'\n",
        "\n",
        "class Bengal(Cat):\n",
        "    def sing(self, sounds):\n",
        "        return f'{sounds}'\n",
        "\n",
        "class Chartreux(Cat):\n",
        "    def sing(self, sounds):\n",
        "        return f'{sounds}'\n",
        "\n",
        "# Étape 1 : Créer la classe Siamese\n",
        "class Siamese(Cat):\n",
        "    def __init__(self, name, age, color='Cream'):\n",
        "        # Appel du constructeur de la classe parent avec le nom et l'âge\n",
        "        super().__init__(name, age)\n",
        "        self.color = color  # Attribut spécifique à la race Siamese : la couleur\n",
        "\n",
        "    def meow(self):\n",
        "        # Méthode spécifique pour faire miauler le Siamese\n",
        "        return f'{self.name} dit Miaou !'\n",
        "\n",
        "# Étape 2 : Créer une liste d'instances (objets) de chats\n",
        "bengal_cat = Bengal(\"Bengal Bob\", 3)\n",
        "chartreux_cat = Chartreux(\"Chartreux Charlie\", 2)\n",
        "siamese_cat = Siamese(\"Siamese Sally\", 4, color='Seal Point')\n",
        "\n",
        "all_cats = [bengal_cat, chartreux_cat, siamese_cat]\n",
        "\n",
        "# Étape 3 : Créer une instance de Pets avec la liste de chats\n",
        "sara_pets = Pets(all_cats)\n",
        "\n",
        "# Étape 4 : Promener les chats\n",
        "sara_pets.walk()"
      ],
      "metadata": {
        "colab": {
          "base_uri": "https://localhost:8080/"
        },
        "id": "wIts-M6BXKDR",
        "outputId": "321e85be-755a-4ef2-934b-10af6228669c"
      },
      "execution_count": null,
      "outputs": [
        {
          "output_type": "stream",
          "name": "stdout",
          "text": [
            "Bengal Bob est en train de se promener\n",
            "Chartreux Charlie est en train de se promener\n",
            "Siamese Sally est en train de se promener\n"
          ]
        }
      ]
    },
    {
      "cell_type": "markdown",
      "source": [
        "Exercice 2"
      ],
      "metadata": {
        "id": "CJAAxUNQWh_5"
      }
    },
    {
      "cell_type": "code",
      "source": [
        "# Définition de la classe Dog représentant un chien\n",
        "class Dog:\n",
        "    # Constructeur de la classe, initialisant le nom, l'âge et le poids du chien\n",
        "    def __init__(self, name, age, weight):\n",
        "        # Attribuer le nom du chien :\n",
        "        self.name = name\n",
        "        # Attribuer l'âge du chien :\n",
        "        self.age = age\n",
        "        # Attribuer le poids du chien :\n",
        "        self.weight = weight\n",
        "\n",
        "    # Méthode pour faire aboyer le chien\n",
        "    def bark(self):\n",
        "        return f'{self.name} is barking'\n",
        "\n",
        "    # Méthode pour calculer la vitesse de course du chien\n",
        "    def run_speed(self):\n",
        "        # Si le chien est encore un chiot (âge 0), la vitesse est nulle\n",
        "        if self.age == 0:\n",
        "            return 0\n",
        "        # Sinon, la vitesse est calculée comme (poids / âge) * 10\n",
        "        return (self.weight / self.age) * 10\n",
        "\n",
        "    # Méthode pour simuler un combat entre deux chiens\n",
        "    def fight(self, other_dog):\n",
        "        # Calcul de la puissance de chaque chien : vitesse * poids\n",
        "        dog = self.run_speed() * self.weight\n",
        "        new_dog = other_dog.run_speed() * other_dog.weight\n",
        "        # Comparaison pour déterminer le gagnant\n",
        "        if dog > new_dog:\n",
        "            return f\"{self.name} wins the fight\"\n",
        "        elif dog < new_dog:\n",
        "            return f\"{other_dog.name} wins the fight\"\n",
        "        else:\n",
        "            return \"It's a tie!\"\n",
        "\n",
        "# Création de trois instances de chiens avec leur nom, âge et poids\n",
        "dog1 = Dog(\"Snoupi\", 2, 8)\n",
        "dog2 = Dog(\"Sam\", 3, 9)\n",
        "dog3 = Dog(\"Michou\", 4, 10)\n",
        "\n",
        "# Test des différentes méthodes sur les chiens créés\n",
        "print(dog1.bark())            # Affiche le cri de Snoupi\n",
        "print(dog2.run_speed())       # Affiche la vitesse de Sam\n",
        "print(dog1.fight(dog2))       # Affronte Snoupi et Sam\n",
        "print(dog3.bark())            # Affiche le cri de Michou\n",
        "print(dog3.run_speed())       # Affiche la vitesse de Michou\n",
        "print(dog3.fight(dog1))       # Affronte Michou et Snoupi"
      ],
      "metadata": {
        "colab": {
          "base_uri": "https://localhost:8080/"
        },
        "id": "6KUipO0HWkEh",
        "outputId": "9929c36e-1dda-4b17-f9a6-ab894485e56c"
      },
      "execution_count": 5,
      "outputs": [
        {
          "output_type": "stream",
          "name": "stdout",
          "text": [
            "Snoupi is barking\n",
            "30.0\n",
            "Snoupi wins the fight\n",
            "Michou is barking\n",
            "25.0\n",
            "Snoupi wins the fight\n"
          ]
        }
      ]
    },
    {
      "cell_type": "markdown",
      "source": [
        "Exercice 3"
      ],
      "metadata": {
        "id": "_2u___gMXNp5"
      }
    },
    {
      "cell_type": "code",
      "source": [
        "# Importation du module random pour choisir une astuce aléatoire\n",
        "import random\n",
        "\n",
        "# Supposons que la classe Dog a été définie précédemment, par exemple dans un fichier nommé dog.py\n",
        "# from dog import Dog\n",
        "\n",
        "# Définition de la classe PetDog qui hérite de Dog\n",
        "class PetDog(Dog):\n",
        "    def __init__(self, name, age, weight):\n",
        "        # Appel du constructeur de la classe parent (Dog)\n",
        "        super().__init__(name, age, weight)\n",
        "        # Attribut pour indiquer si le chien est entraîné\n",
        "        self.trained = False\n",
        "\n",
        "    def train(self):\n",
        "        # La méthode entraîne le chien et affiche un aboiement\n",
        "        print(self.bark())\n",
        "        # Le chien est maintenant entraîné\n",
        "        self.trained = True\n",
        "\n",
        "    def play(self, *args):\n",
        "        # La méthode permet de faire jouer plusieurs chiens ensemble\n",
        "        # args est une liste de chiens\n",
        "        names = [dog.name for dog in args]\n",
        "        # Affiche un message avec tous les chiens qui jouent ensemble\n",
        "        print(f\"{', '.join(names)} all play together!\")\n",
        "\n",
        "    def do_a_trick(self):\n",
        "        # La méthode fait faire une astuce si le chien est entraîné\n",
        "        if self.trained:\n",
        "            tricks = [\n",
        "                \"does a barrel roll\",\n",
        "                \"stands on his back legs\",\n",
        "                \"shakes your hand\",\n",
        "                \"plays dead\"\n",
        "            ]\n",
        "            # Choix aléatoire d'une astuce\n",
        "            trick = random.choice(tricks)\n",
        "            # Affichage de l'astuce effectuée par le chien\n",
        "            print(f\"{self.name} {trick}\")\n",
        "        else:\n",
        "            # Si le chien n'est pas entraîné, il ne peut pas faire de truc\n",
        "            print(f\"{self.name} is not trained yet!\")\n",
        "\n",
        "# Exemple de test de la classe PetDog\n",
        "if __name__ == \"__main__\":\n",
        "    # Création d'une instance de PetDog\n",
        "    my_dog = PetDog(\"Fido\", 2, 10)\n",
        "    # Entraînement du chien\n",
        "    my_dog.train()\n",
        "    # Création d'autres chiens pour jouer\n",
        "    buddy = PetDog(\"Buddy\", 3, 12)\n",
        "    max_dog = PetDog(\"Max\", 4, 15)\n",
        "    # Les chiens jouent ensemble\n",
        "    my_dog.play(buddy, max_dog)\n",
        "    # Le chien fait une astuce\n",
        "    my_dog.do_a_trick()"
      ],
      "metadata": {
        "id": "yL_s8pGStRM4",
        "colab": {
          "base_uri": "https://localhost:8080/"
        },
        "outputId": "48b0c347-8ee3-4e72-c2b5-f0f4f139c70d"
      },
      "execution_count": 6,
      "outputs": [
        {
          "output_type": "stream",
          "name": "stdout",
          "text": [
            "Fido is barking\n",
            "Buddy, Max all play together!\n",
            "Fido plays dead\n"
          ]
        }
      ]
    },
    {
      "cell_type": "markdown",
      "source": [
        "Exercice 4"
      ],
      "metadata": {
        "id": "qpXZ7oE4bl2_"
      }
    },
    {
      "cell_type": "code",
      "source": [
        "# Définition de la classe Person\n",
        "class Person:\n",
        "    def __init__(self, first_name, age):\n",
        "        self.first_name = first_name\n",
        "        self.age = age\n",
        "        self.last_name = \"\"  # initialement vide, sera assignée par la famille\n",
        "\n",
        "    # Méthode pour vérifier si la personne a 18 ans ou plus\n",
        "    def is_18(self):\n",
        "        return self.age >= 18 # retourne True si age >= 18, sinon False\n",
        "\n",
        "\n",
        "# Définition de la classe Family\n",
        "class Family:\n",
        "    def __init__(self, last_name):\n",
        "        self.last_name = last_name  # nom de famille\n",
        "        self.members = []  # liste pour stocker les membres de la famille\n",
        "\n",
        "    # Méthode pour ajouter un nouveau membre à la famille\n",
        "    def born(self, first_name, age):\n",
        "        # Créer une nouvelle personne\n",
        "        person = Person(first_name, age)\n",
        "        # Attribuer le nom de famille à la personne\n",
        "        person.last_name = self.last_name\n",
        "        # Ajouter la personne à la liste des membres\n",
        "        self.members.append(person)\n",
        "\n",
        "    # Méthode pour vérifier si un membre est majeur\n",
        "    def check_majority(self, first_name):\n",
        "        # Rechercher dans la liste des membres\n",
        "        for member in self.members:\n",
        "            if member.first_name == first_name:\n",
        "                # Vérifier si la personne est majeure\n",
        "                if member.is_18():\n",
        "                    print(\"You are over 18, your parents Jane and John accept that you will go out with your friends\")\n",
        "                else:\n",
        "                    print(\"Sorry, you are not allowed to go out with your friends.\")\n",
        "                return\n",
        "        # Si la personne n'a pas été trouvée\n",
        "        print(f\"Aucun membre nommé {first_name} dans cette famille.\")\n",
        "\n",
        "    # Méthode pour présenter la famille\n",
        "    def family_presentation(self):\n",
        "        print(f\"Famille {self.last_name} :\")\n",
        "        # Parcourir tous les membres et afficher leur prénom et âge\n",
        "        for member in self.members:\n",
        "            print(f\"- {member.first_name}, {member.age} ans\")\n",
        "\n",
        "\n",
        "# Exemple d'utilisation pour tester les classes\n",
        "if __name__ == \"__main__\":\n",
        "    # Créer une famille avec un nom de famille\n",
        "    ma_famille = Family(\"Dupont\")\n",
        "\n",
        "    # Ajouter des membres à la famille\n",
        "    ma_famille.born(\"Alice\", 17)\n",
        "    ma_famille.born(\"Bob\", 20)\n",
        "    ma_famille.born(\"Charlie\", 16)\n",
        "\n",
        "    # Présenter la famille\n",
        "    ma_famille.family_presentation()\n",
        "\n",
        "    # Vérifier si Alice peut sortir\n",
        "    ma_famille.check_majority(\"Alice\")\n",
        "    # Vérifier si Bob peut sortir\n",
        "    ma_famille.check_majority(\"Bob\")\n",
        "    # Vérifier un nom qui n'existe pas\n",
        "    ma_famille.check_majority(\"David\")"
      ],
      "metadata": {
        "colab": {
          "base_uri": "https://localhost:8080/"
        },
        "id": "6qi79TZbbn7r",
        "outputId": "9c41a8bf-49bc-4418-a808-91f2158defe0"
      },
      "execution_count": 10,
      "outputs": [
        {
          "output_type": "stream",
          "name": "stdout",
          "text": [
            "Famille Dupont :\n",
            "- Alice, 17 ans\n",
            "- Bob, 20 ans\n",
            "- Charlie, 16 ans\n",
            "Sorry, you are not allowed to go out with your friends.\n",
            "You are over 18, your parents Jane and John accept that you will go out with your friends\n",
            "Aucun membre nommé David dans cette famille.\n"
          ]
        }
      ]
    }
  ]
}
