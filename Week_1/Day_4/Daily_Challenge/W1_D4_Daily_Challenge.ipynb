{
  "nbformat": 4,
  "nbformat_minor": 0,
  "metadata": {
    "colab": {
      "provenance": []
    },
    "kernelspec": {
      "name": "python3",
      "display_name": "Python 3"
    },
    "language_info": {
      "name": "python"
    }
  },
  "cells": [
    {
      "cell_type": "markdown",
      "source": [
        "Week1_Day_4 : Daily Challenge"
      ],
      "metadata": {
        "id": "eTPXq_Lhk0SP"
      }
    },
    {
      "cell_type": "code",
      "execution_count": 12,
      "metadata": {
        "colab": {
          "base_uri": "https://localhost:8080/"
        },
        "id": "x_OkbvP0kx7n",
        "outputId": "7c3872e7-5fac-40b0-eaf3-14cf75d08c1a"
      },
      "outputs": [
        {
          "output_type": "stream",
          "name": "stdout",
          "text": [
            "['a', 'b', 'c', 'd']\n",
            "['e', 'f', 'g', 'h']\n",
            "['y', 'z']\n",
            "7\n",
            "Page invalide : 0. Doit être entre 1 et 7.\n"
          ]
        }
      ],
      "source": [
        "import math\n",
        "\n",
        "class Pagination:\n",
        "    def __init__(self, items=None, page_size=10):\n",
        "        # Si aucun items n'est fourni, on initialise une liste vide\n",
        "        self.items = items if items is not None else []\n",
        "        # La taille de chaque page\n",
        "        self.page_size = page_size\n",
        "        # L'index de la page courante (0-based)\n",
        "        self.current_idx = 0\n",
        "        # Calcul du nombre total de pages (arrondi supérieur)\n",
        "        self.total_pages = math.ceil(len(self.items) / self.page_size)\n",
        "\n",
        "    def get_visible_items(self):\n",
        "        # Détermine l'index de début et de fin pour la page courante\n",
        "        start = self.current_idx * self.page_size\n",
        "        end = start + self.page_size\n",
        "        # Retourne la tranche des éléments visibles\n",
        "        return self.items[start:end]\n",
        "\n",
        "    def go_to_page(self, page_num):\n",
        "        # La numérotation utilisateur commence à 1, on doit ajuster\n",
        "        if not isinstance(page_num, int):\n",
        "            # Si l'entrée n'est pas un entier, on la cast en int\n",
        "            page_num = int(page_num)\n",
        "        if page_num < 1 or page_num > self.total_pages:\n",
        "            # Si le numéro de page est hors limites, on lève une erreur\n",
        "            raise ValueError(f\"Page invalide : {page_num}. Doit être entre 1 et {self.total_pages}.\")\n",
        "        # Mise à jour de l'index de la page (0-based)\n",
        "        self.current_idx = page_num - 1\n",
        "        return self  # pour le chaînage\n",
        "\n",
        "    def first_page(self):\n",
        "        # Aller à la première page\n",
        "        self.current_idx = 0\n",
        "        return self\n",
        "\n",
        "    def last_page(self):\n",
        "        # Aller à la dernière page\n",
        "        self.current_idx = self.total_pages - 1 if self.total_pages > 0 else 0\n",
        "        return self\n",
        "\n",
        "    def next_page(self):\n",
        "        # Aller à la page suivante si possible\n",
        "        if self.current_idx < self.total_pages - 1:\n",
        "            self.current_idx += 1\n",
        "        return self\n",
        "\n",
        "    def previous_page(self):\n",
        "        # Revenir à la page précédente si possible\n",
        "        if self.current_idx > 0:\n",
        "            self.current_idx -= 1\n",
        "        return self\n",
        "\n",
        "    def __str__(self):\n",
        "        # Retourne les éléments de la page courante, chaque élément sur une nouvelle ligne\n",
        "        visible_items = self.get_visible_items()\n",
        "        return \"\\n\".join(str(item) for item in visible_items)\n",
        "\n",
        "# Exemple de test\n",
        "if __name__ == \"__main__\":\n",
        "    alphabetList = list(\"abcdefghijklmnopqrstuvwxyz\")\n",
        "    p = Pagination(alphabetList, 4)\n",
        "\n",
        "    print(p.get_visible_items())  # ['a', 'b', 'c', 'd']\n",
        "    p.next_page()\n",
        "    print(p.get_visible_items())  # ['e', 'f', 'g', 'h']\n",
        "    p.last_page()\n",
        "    print(p.get_visible_items())  # ['y', 'z']\n",
        "    p.go_to_page(7)\n",
        "    print(p.current_idx + 1)     # Affiche 7\n",
        "    try:\n",
        "      p.go_to_page(0)\n",
        "    # Renvoie une erreur\n",
        "    except ValueError as e:\n",
        "      print(e)"
      ]
    }
  ]
}
