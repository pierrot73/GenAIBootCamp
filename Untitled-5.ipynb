{
 "cells": [
  {
   "cell_type": "code",
   "execution_count": 1,
   "id": "d17cdfdd",
   "metadata": {},
   "outputs": [
    {
     "name": "stdout",
     "output_type": "stream",
     "text": [
      "1\n",
      "4\n"
     ]
    }
   ],
   "source": [
    "class Circle:\n",
    "    def __init__(self, diameter):\n",
    "      self.diameter = diameter\n",
    "\n",
    "    def grow(self, factor=2):\n",
    "        \"\"\"grows the circle's diameter by factor\"\"\"\n",
    "        self.diameter = self.diameter * factor\n",
    "\n",
    "class NewCircle(Circle):\n",
    "    def grow(self, factor=2):\n",
    "        \"\"\"grows the area by factor...\"\"\"\n",
    "        self.diameter = (self.diameter * factor * 2)\n",
    "\n",
    "nc = NewCircle(1)\n",
    "print(nc.diameter)\n",
    "\n",
    "nc.grow()\n",
    "\n",
    "print(nc.diameter)\n",
    "# >> What will be the output"
   ]
  },
  {
   "cell_type": "code",
   "execution_count": 2,
   "id": "6284cd3d",
   "metadata": {},
   "outputs": [
    {
     "name": "stdout",
     "output_type": "stream",
     "text": [
      "I am an DOGGG !!! WOUAFFF!!\n"
     ]
    }
   ],
   "source": [
    "class Animal():\n",
    "    def __init__(self, type, number_legs, sound):\n",
    "        self.type = type\n",
    "        self.number_legs = number_legs\n",
    "        self.sound = sound\n",
    "    def make_sound(self):\n",
    "        print(f\"I am an animal, and I love saying {self.sound}\")\n",
    "class Dog(Animal):\n",
    "    def fetch_ball(self):\n",
    "        print(\"I am a dog, and I love fetching balls\")\n",
    "    def make_sound(self):\n",
    "        print(\"I am an DOGGG !!! WOUAFFF!!\")\n",
    "rex = Dog('dog', 4, \"Wouaf\")\n",
    "rex.make_sound()\n",
    "# >> I am an DOGGG !!! WOUAFFF!!"
   ]
  },
  {
   "cell_type": "code",
   "execution_count": 5,
   "id": "8e53dfa4",
   "metadata": {},
   "outputs": [],
   "source": [
    "class Door:\n",
    "    def __init__(self,is_opened):\n",
    "        self.is_opened = is_opened\n",
    "    def open_door(self):\n",
    "        self.is_opened = True\n",
    "        print(\"Door is opened\")\n",
    "    def close_door(self):\n",
    "        self.is_opened = False\n",
    "        print(\"Door is closed\")\n",
    "class BlockedDoor(Door):\n",
    "    def open_door(self):\n",
    "        raise Exception(\"A blocked door cannot be opened\")\n",
    "    def close_door(self):\n",
    "        raise Exception(\"A blocked door cannot be closed\")\n"
   ]
  },
  {
   "cell_type": "code",
   "execution_count": 10,
   "id": "c1a2ed5b",
   "metadata": {},
   "outputs": [
    {
     "name": "stdout",
     "output_type": "stream",
     "text": [
      "7.38905609893065\n"
     ]
    }
   ],
   "source": [
    "# math module\n",
    "import math\n",
    "\n",
    "print(math.exp(2)) # Euler's number"
   ]
  }
 ],
 "metadata": {
  "kernelspec": {
   "display_name": "Python 3",
   "language": "python",
   "name": "python3"
  },
  "language_info": {
   "codemirror_mode": {
    "name": "ipython",
    "version": 3
   },
   "file_extension": ".py",
   "mimetype": "text/x-python",
   "name": "python",
   "nbconvert_exporter": "python",
   "pygments_lexer": "ipython3",
   "version": "3.11.9"
  }
 },
 "nbformat": 4,
 "nbformat_minor": 5
}
